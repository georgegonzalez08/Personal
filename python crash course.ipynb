{
 "cells": [
  {
   "cell_type": "markdown",
   "id": "728b4191",
   "metadata": {},
   "source": [
    "importing libraries"
   ]
  },
  {
   "cell_type": "code",
   "execution_count": 4,
   "id": "5f16a878",
   "metadata": {},
   "outputs": [],
   "source": [
    "import pandas as pd\n",
    "import numpy as np"
   ]
  },
  {
   "cell_type": "code",
   "execution_count": 5,
   "id": "d21bf9e8",
   "metadata": {},
   "outputs": [
    {
     "data": {
      "text/plain": [
       "'1.5.2'"
      ]
     },
     "execution_count": 5,
     "metadata": {},
     "output_type": "execute_result"
    }
   ],
   "source": [
    "pd.__version__"
   ]
  },
  {
   "cell_type": "code",
   "execution_count": 65,
   "id": "9d5bbd66",
   "metadata": {},
   "outputs": [],
   "source": [
    "%config Completer.use_jedi = False\n",
    "\n"
   ]
  },
  {
   "cell_type": "code",
   "execution_count": 11,
   "id": "c2133e99",
   "metadata": {},
   "outputs": [
    {
     "data": {
      "text/plain": [
       "False"
      ]
     },
     "execution_count": 11,
     "metadata": {},
     "output_type": "execute_result"
    }
   ],
   "source": [
    "#boolean\n",
    "True\n",
    "False"
   ]
  },
  {
   "cell_type": "code",
   "execution_count": 12,
   "id": "60458e80",
   "metadata": {},
   "outputs": [
    {
     "data": {
      "text/plain": [
       "True"
      ]
     },
     "execution_count": 12,
     "metadata": {},
     "output_type": "execute_result"
    }
   ],
   "source": [
    "5<7"
   ]
  },
  {
   "cell_type": "code",
   "execution_count": 13,
   "id": "adba4ebc",
   "metadata": {},
   "outputs": [
    {
     "data": {
      "text/plain": [
       "False"
      ]
     },
     "execution_count": 13,
     "metadata": {},
     "output_type": "execute_result"
    }
   ],
   "source": [
    "7<2"
   ]
  },
  {
   "cell_type": "code",
   "execution_count": 14,
   "id": "fc393be2",
   "metadata": {},
   "outputs": [],
   "source": [
    "None"
   ]
  },
  {
   "cell_type": "code",
   "execution_count": 3,
   "id": "ca7385c5",
   "metadata": {},
   "outputs": [
    {
     "data": {
      "text/plain": [
       "'racecar'"
      ]
     },
     "execution_count": 3,
     "metadata": {},
     "output_type": "execute_result"
    }
   ],
   "source": [
    "#concatenation\n",
    "\"race\"+\"car\""
   ]
  },
  {
   "cell_type": "code",
   "execution_count": 4,
   "id": "425cde08",
   "metadata": {},
   "outputs": [
    {
     "data": {
      "text/plain": [
       "'mahimahi'"
      ]
     },
     "execution_count": 4,
     "metadata": {},
     "output_type": "execute_result"
    }
   ],
   "source": [
    "\"mahi\"*2"
   ]
  },
  {
   "cell_type": "code",
   "execution_count": 7,
   "id": "5cc08740",
   "metadata": {},
   "outputs": [
    {
     "data": {
      "text/plain": [
       "17"
      ]
     },
     "execution_count": 7,
     "metadata": {},
     "output_type": "execute_result"
    }
   ],
   "source": [
    "#pemdas\n",
    "2+3*5"
   ]
  },
  {
   "cell_type": "code",
   "execution_count": 8,
   "id": "18acf048",
   "metadata": {},
   "outputs": [
    {
     "data": {
      "text/plain": [
       "3.3333333333333335"
      ]
     },
     "execution_count": 8,
     "metadata": {},
     "output_type": "execute_result"
    }
   ],
   "source": [
    "10/3"
   ]
  },
  {
   "cell_type": "code",
   "execution_count": 9,
   "id": "ae09eb38",
   "metadata": {},
   "outputs": [
    {
     "data": {
      "text/plain": [
       "3"
      ]
     },
     "execution_count": 9,
     "metadata": {},
     "output_type": "execute_result"
    }
   ],
   "source": [
    "10//3"
   ]
  },
  {
   "cell_type": "code",
   "execution_count": 10,
   "id": "e7f83e17",
   "metadata": {},
   "outputs": [
    {
     "data": {
      "text/plain": [
       "1"
      ]
     },
     "execution_count": 10,
     "metadata": {},
     "output_type": "execute_result"
    }
   ],
   "source": [
    "10%3"
   ]
  },
  {
   "cell_type": "code",
   "execution_count": 12,
   "id": "40979836",
   "metadata": {},
   "outputs": [
    {
     "data": {
      "text/plain": [
       "False"
      ]
     },
     "execution_count": 12,
     "metadata": {},
     "output_type": "execute_result"
    }
   ],
   "source": [
    "#equality\n",
    "1==2"
   ]
  },
  {
   "cell_type": "code",
   "execution_count": 13,
   "id": "1ddef174",
   "metadata": {},
   "outputs": [
    {
     "data": {
      "text/plain": [
       "True"
      ]
     },
     "execution_count": 13,
     "metadata": {},
     "output_type": "execute_result"
    }
   ],
   "source": [
    "\"hello\"==\"hello\""
   ]
  },
  {
   "cell_type": "code",
   "execution_count": 14,
   "id": "4c016f52",
   "metadata": {},
   "outputs": [
    {
     "data": {
      "text/plain": [
       "False"
      ]
     },
     "execution_count": 14,
     "metadata": {},
     "output_type": "execute_result"
    }
   ],
   "source": [
    "\"hello\"==\"Hello\""
   ]
  },
  {
   "cell_type": "code",
   "execution_count": 16,
   "id": "e01077fa",
   "metadata": {},
   "outputs": [
    {
     "data": {
      "text/plain": [
       "True"
      ]
     },
     "execution_count": 16,
     "metadata": {},
     "output_type": "execute_result"
    }
   ],
   "source": [
    "#inequality\n",
    "5 != 3"
   ]
  },
  {
   "cell_type": "code",
   "execution_count": 17,
   "id": "bee11fa4",
   "metadata": {},
   "outputs": [
    {
     "data": {
      "text/plain": [
       "False"
      ]
     },
     "execution_count": 17,
     "metadata": {},
     "output_type": "execute_result"
    }
   ],
   "source": [
    "5<0"
   ]
  },
  {
   "cell_type": "code",
   "execution_count": 18,
   "id": "2239b11d",
   "metadata": {},
   "outputs": [
    {
     "data": {
      "text/plain": [
       "True"
      ]
     },
     "execution_count": 18,
     "metadata": {},
     "output_type": "execute_result"
    }
   ],
   "source": [
    "5<=6"
   ]
  },
  {
   "cell_type": "markdown",
   "id": "74179655",
   "metadata": {},
   "source": [
    "# variables"
   ]
  },
  {
   "cell_type": "code",
   "execution_count": 35,
   "id": "08bf5723",
   "metadata": {},
   "outputs": [],
   "source": [
    "age = 29\n",
    "price = 19.99\n",
    "first_name =\"John\"\n",
    "job=\"dev\"\n",
    "is_handsome=True"
   ]
  },
  {
   "cell_type": "code",
   "execution_count": 26,
   "id": "1e7740ac",
   "metadata": {},
   "outputs": [
    {
     "data": {
      "text/plain": [
       "'John is awesome'"
      ]
     },
     "execution_count": 26,
     "metadata": {},
     "output_type": "execute_result"
    }
   ],
   "source": [
    "first_name + \" is awesome\""
   ]
  },
  {
   "cell_type": "code",
   "execution_count": 29,
   "id": "39386289",
   "metadata": {},
   "outputs": [
    {
     "data": {
      "text/plain": [
       "'dev'"
      ]
     },
     "execution_count": 29,
     "metadata": {},
     "output_type": "execute_result"
    }
   ],
   "source": [
    "job"
   ]
  },
  {
   "cell_type": "code",
   "execution_count": 30,
   "id": "5f17a7a7",
   "metadata": {},
   "outputs": [],
   "source": [
    "job =\"BA\""
   ]
  },
  {
   "cell_type": "code",
   "execution_count": 31,
   "id": "9a266719",
   "metadata": {},
   "outputs": [
    {
     "data": {
      "text/plain": [
       "'BA'"
      ]
     },
     "execution_count": 31,
     "metadata": {},
     "output_type": "execute_result"
    }
   ],
   "source": [
    "job"
   ]
  },
  {
   "cell_type": "code",
   "execution_count": 36,
   "id": "5cca7abe",
   "metadata": {},
   "outputs": [],
   "source": [
    "age = age+5"
   ]
  },
  {
   "cell_type": "code",
   "execution_count": 37,
   "id": "ae5245d5",
   "metadata": {},
   "outputs": [
    {
     "data": {
      "text/plain": [
       "34"
      ]
     },
     "execution_count": 37,
     "metadata": {},
     "output_type": "execute_result"
    }
   ],
   "source": [
    "age"
   ]
  },
  {
   "cell_type": "markdown",
   "id": "995bbf79",
   "metadata": {},
   "source": [
    "# functions"
   ]
  },
  {
   "cell_type": "code",
   "execution_count": 38,
   "id": "d624e473",
   "metadata": {},
   "outputs": [
    {
     "data": {
      "text/plain": [
       "32"
      ]
     },
     "execution_count": 38,
     "metadata": {},
     "output_type": "execute_result"
    }
   ],
   "source": [
    "len(\"how many characters are in this?\")"
   ]
  },
  {
   "cell_type": "code",
   "execution_count": 39,
   "id": "233882bc",
   "metadata": {},
   "outputs": [
    {
     "data": {
      "text/plain": [
       "'3.4'"
      ]
     },
     "execution_count": 39,
     "metadata": {},
     "output_type": "execute_result"
    }
   ],
   "source": [
    "str(3.4)"
   ]
  },
  {
   "cell_type": "code",
   "execution_count": 41,
   "id": "2274bc65",
   "metadata": {},
   "outputs": [
    {
     "data": {
      "text/plain": [
       "5"
      ]
     },
     "execution_count": 41,
     "metadata": {},
     "output_type": "execute_result"
    }
   ],
   "source": [
    "int(5.4)"
   ]
  },
  {
   "cell_type": "code",
   "execution_count": 42,
   "id": "ab1a93c4",
   "metadata": {},
   "outputs": [
    {
     "data": {
      "text/plain": [
       "3.4"
      ]
     },
     "execution_count": 42,
     "metadata": {},
     "output_type": "execute_result"
    }
   ],
   "source": [
    "float(3.4)"
   ]
  },
  {
   "cell_type": "code",
   "execution_count": 43,
   "id": "3e05e307",
   "metadata": {},
   "outputs": [
    {
     "data": {
      "text/plain": [
       "int"
      ]
     },
     "execution_count": 43,
     "metadata": {},
     "output_type": "execute_result"
    }
   ],
   "source": [
    "type(4)"
   ]
  },
  {
   "cell_type": "code",
   "execution_count": 44,
   "id": "4b4a503b",
   "metadata": {},
   "outputs": [
    {
     "data": {
      "text/plain": [
       "True"
      ]
     },
     "execution_count": 44,
     "metadata": {},
     "output_type": "execute_result"
    }
   ],
   "source": [
    "type(10)==type(14)"
   ]
  },
  {
   "cell_type": "code",
   "execution_count": 45,
   "id": "aebc08d6",
   "metadata": {},
   "outputs": [
    {
     "data": {
      "text/plain": [
       "False"
      ]
     },
     "execution_count": 45,
     "metadata": {},
     "output_type": "execute_result"
    }
   ],
   "source": [
    "type(10)==type(\"14\")"
   ]
  },
  {
   "cell_type": "code",
   "execution_count": 66,
   "id": "b23eab29",
   "metadata": {},
   "outputs": [],
   "source": [
    "def temp(celsius_temp=0):\n",
    "     product = celsius_temp*1.8\n",
    "     return product + 32"
   ]
  },
  {
   "cell_type": "code",
   "execution_count": 64,
   "id": "f4a58120",
   "metadata": {},
   "outputs": [
    {
     "data": {
      "text/plain": [
       "35.6"
      ]
     },
     "execution_count": 64,
     "metadata": {},
     "output_type": "execute_result"
    }
   ],
   "source": [
    "temp(2)"
   ]
  },
  {
   "cell_type": "code",
   "execution_count": 69,
   "id": "3a29938e",
   "metadata": {},
   "outputs": [],
   "source": [
    "#string methods\n",
    "profession = 'developer'"
   ]
  },
  {
   "cell_type": "code",
   "execution_count": 68,
   "id": "4e7c8120",
   "metadata": {},
   "outputs": [
    {
     "data": {
      "text/plain": [
       "'Developer'"
      ]
     },
     "execution_count": 68,
     "metadata": {},
     "output_type": "execute_result"
    }
   ],
   "source": [
    "profession.capitalize()"
   ]
  },
  {
   "cell_type": "code",
   "execution_count": 70,
   "id": "8f2ddb30",
   "metadata": {},
   "outputs": [
    {
     "data": {
      "text/plain": [
       "'Once Upon A Time'"
      ]
     },
     "execution_count": 70,
     "metadata": {},
     "output_type": "execute_result"
    }
   ],
   "source": [
    "\"once upon a time\".title()"
   ]
  },
  {
   "cell_type": "code",
   "execution_count": 72,
   "id": "d4dcefcb",
   "metadata": {},
   "outputs": [
    {
     "data": {
      "text/plain": [
       "'Once upon a time'"
      ]
     },
     "execution_count": 72,
     "metadata": {},
     "output_type": "execute_result"
    }
   ],
   "source": [
    "\"once upon a time\".capitalize()"
   ]
  },
  {
   "cell_type": "code",
   "execution_count": 73,
   "id": "d020f73b",
   "metadata": {},
   "outputs": [],
   "source": [
    "name = \"        joker     \""
   ]
  },
  {
   "cell_type": "code",
   "execution_count": 75,
   "id": "55638053",
   "metadata": {},
   "outputs": [
    {
     "data": {
      "text/plain": [
       "'joker     '"
      ]
     },
     "execution_count": 75,
     "metadata": {},
     "output_type": "execute_result"
    }
   ],
   "source": [
    "name.lstrip()"
   ]
  },
  {
   "cell_type": "code",
   "execution_count": 76,
   "id": "515508d0",
   "metadata": {},
   "outputs": [
    {
     "data": {
      "text/plain": [
       "'        joker'"
      ]
     },
     "execution_count": 76,
     "metadata": {},
     "output_type": "execute_result"
    }
   ],
   "source": [
    "name.rstrip()"
   ]
  },
  {
   "cell_type": "code",
   "execution_count": 77,
   "id": "72be55a7",
   "metadata": {},
   "outputs": [
    {
     "data": {
      "text/plain": [
       "'joker'"
      ]
     },
     "execution_count": 77,
     "metadata": {},
     "output_type": "execute_result"
    }
   ],
   "source": [
    "name.strip()"
   ]
  },
  {
   "cell_type": "code",
   "execution_count": 78,
   "id": "88d4da0d",
   "metadata": {},
   "outputs": [
    {
     "data": {
      "text/plain": [
       "'        toker     '"
      ]
     },
     "execution_count": 78,
     "metadata": {},
     "output_type": "execute_result"
    }
   ],
   "source": [
    "name.replace(\"j\",\"t\")"
   ]
  },
  {
   "cell_type": "code",
   "execution_count": 79,
   "id": "03c9e25d",
   "metadata": {},
   "outputs": [
    {
     "data": {
      "text/plain": [
       "'toker'"
      ]
     },
     "execution_count": 79,
     "metadata": {},
     "output_type": "execute_result"
    }
   ],
   "source": [
    "name.strip().replace(\"j\",\"t\")"
   ]
  },
  {
   "cell_type": "code",
   "execution_count": 80,
   "id": "548f1db6",
   "metadata": {},
   "outputs": [],
   "source": [
    "animal=\"rhinoceros\""
   ]
  },
  {
   "cell_type": "code",
   "execution_count": 81,
   "id": "c4cf80e6",
   "metadata": {},
   "outputs": [
    {
     "data": {
      "text/plain": [
       "True"
      ]
     },
     "execution_count": 81,
     "metadata": {},
     "output_type": "execute_result"
    }
   ],
   "source": [
    "animal.startswith(\"rhino\")"
   ]
  },
  {
   "cell_type": "code",
   "execution_count": 83,
   "id": "e17031b9",
   "metadata": {},
   "outputs": [
    {
     "data": {
      "text/plain": [
       "False"
      ]
     },
     "execution_count": 83,
     "metadata": {},
     "output_type": "execute_result"
    }
   ],
   "source": [
    "animal.startswith(\"Rhino\")"
   ]
  },
  {
   "cell_type": "code",
   "execution_count": 84,
   "id": "770e2533",
   "metadata": {},
   "outputs": [
    {
     "data": {
      "text/plain": [
       "True"
      ]
     },
     "execution_count": 84,
     "metadata": {},
     "output_type": "execute_result"
    }
   ],
   "source": [
    "animal.endswith(\"ros\")"
   ]
  },
  {
   "cell_type": "code",
   "execution_count": 86,
   "id": "a982af02",
   "metadata": {},
   "outputs": [
    {
     "data": {
      "text/plain": [
       "True"
      ]
     },
     "execution_count": 86,
     "metadata": {},
     "output_type": "execute_result"
    }
   ],
   "source": [
    "\"ino\" in animal"
   ]
  },
  {
   "cell_type": "code",
   "execution_count": 88,
   "id": "c9682fc3",
   "metadata": {},
   "outputs": [
    {
     "data": {
      "text/plain": [
       "False"
      ]
     },
     "execution_count": 88,
     "metadata": {},
     "output_type": "execute_result"
    }
   ],
   "source": [
    "\"g\" in animal"
   ]
  },
  {
   "cell_type": "code",
   "execution_count": 87,
   "id": "b0412abe",
   "metadata": {},
   "outputs": [
    {
     "data": {
      "text/plain": [
       "True"
      ]
     },
     "execution_count": 87,
     "metadata": {},
     "output_type": "execute_result"
    }
   ],
   "source": [
    "\"z\" not in animal"
   ]
  },
  {
   "cell_type": "markdown",
   "id": "85796a54",
   "metadata": {},
   "source": [
    "# Lists"
   ]
  },
  {
   "cell_type": "code",
   "execution_count": 1,
   "id": "b37845e3",
   "metadata": {},
   "outputs": [],
   "source": [
    "#mutable data structure that holds an ordered collection of elements "
   ]
  },
  {
   "cell_type": "code",
   "execution_count": 2,
   "id": "2fcec99d",
   "metadata": {},
   "outputs": [
    {
     "data": {
      "text/plain": [
       "[1, 2, 3, 4]"
      ]
     },
     "execution_count": 2,
     "metadata": {},
     "output_type": "execute_result"
    }
   ],
   "source": [
    "[1,2,3,4]"
   ]
  },
  {
   "cell_type": "code",
   "execution_count": 3,
   "id": "0f3a4efe",
   "metadata": {},
   "outputs": [
    {
     "data": {
      "text/plain": [
       "[True, False, True, False]"
      ]
     },
     "execution_count": 3,
     "metadata": {},
     "output_type": "execute_result"
    }
   ],
   "source": [
    "[True,False,True,False]"
   ]
  },
  {
   "cell_type": "code",
   "execution_count": 4,
   "id": "bd33b0a4",
   "metadata": {},
   "outputs": [],
   "source": [
    "party_attendees=[\"john\",\"michael\",\"paco\"]"
   ]
  },
  {
   "cell_type": "code",
   "execution_count": 5,
   "id": "128e4b88",
   "metadata": {},
   "outputs": [
    {
     "data": {
      "text/plain": [
       "['john', 'michael', 'paco']"
      ]
     },
     "execution_count": 5,
     "metadata": {},
     "output_type": "execute_result"
    }
   ],
   "source": [
    "party_attendees"
   ]
  },
  {
   "cell_type": "code",
   "execution_count": 6,
   "id": "34b09d24",
   "metadata": {},
   "outputs": [
    {
     "data": {
      "text/plain": [
       "[]"
      ]
     },
     "execution_count": 6,
     "metadata": {},
     "output_type": "execute_result"
    }
   ],
   "source": [
    "[]"
   ]
  },
  {
   "cell_type": "code",
   "execution_count": 7,
   "id": "8725e3b0",
   "metadata": {},
   "outputs": [
    {
     "data": {
      "text/plain": [
       "3"
      ]
     },
     "execution_count": 7,
     "metadata": {},
     "output_type": "execute_result"
    }
   ],
   "source": [
    "len(party_attendees)"
   ]
  },
  {
   "cell_type": "code",
   "execution_count": 8,
   "id": "2bc55bff",
   "metadata": {},
   "outputs": [
    {
     "data": {
      "text/plain": [
       "list"
      ]
     },
     "execution_count": 8,
     "metadata": {},
     "output_type": "execute_result"
    }
   ],
   "source": [
    "type(party_attendees)"
   ]
  },
  {
   "cell_type": "code",
   "execution_count": 9,
   "id": "5cd6f27d",
   "metadata": {},
   "outputs": [],
   "source": [
    "presidents=[\"Lincoln\",\"Reagan\"]"
   ]
  },
  {
   "cell_type": "code",
   "execution_count": 13,
   "id": "2a7c1df7",
   "metadata": {},
   "outputs": [],
   "source": [
    "#adding to a list\n",
    "presidents.append(\"George\")"
   ]
  },
  {
   "cell_type": "code",
   "execution_count": 12,
   "id": "c05143b2",
   "metadata": {},
   "outputs": [
    {
     "data": {
      "text/plain": [
       "['Lincoln', 'Reagan', 'George']"
      ]
     },
     "execution_count": 12,
     "metadata": {},
     "output_type": "execute_result"
    }
   ],
   "source": [
    "presidents"
   ]
  },
  {
   "cell_type": "code",
   "execution_count": 25,
   "id": "84ae1687",
   "metadata": {},
   "outputs": [],
   "source": [
    "#removing from a list using pop. removes the last one.\n",
    "popcorn=[\"salt\",\"sugar\",\"butter\"]"
   ]
  },
  {
   "cell_type": "code",
   "execution_count": 26,
   "id": "8d95fd4b",
   "metadata": {},
   "outputs": [
    {
     "data": {
      "text/plain": [
       "'butter'"
      ]
     },
     "execution_count": 26,
     "metadata": {},
     "output_type": "execute_result"
    }
   ],
   "source": [
    "popcorn.pop()"
   ]
  },
  {
   "cell_type": "code",
   "execution_count": 27,
   "id": "05399af2",
   "metadata": {},
   "outputs": [
    {
     "data": {
      "text/plain": [
       "['salt', 'sugar']"
      ]
     },
     "execution_count": 27,
     "metadata": {},
     "output_type": "execute_result"
    }
   ],
   "source": [
    "popcorn"
   ]
  },
  {
   "cell_type": "code",
   "execution_count": 28,
   "id": "0aeb5250",
   "metadata": {},
   "outputs": [],
   "source": [
    "#remove a n item from list for specific target. only removes the first one that it finds.\n",
    "popcorn.remove(\"salt\")"
   ]
  },
  {
   "cell_type": "code",
   "execution_count": 29,
   "id": "e39a97d9",
   "metadata": {},
   "outputs": [
    {
     "data": {
      "text/plain": [
       "['sugar']"
      ]
     },
     "execution_count": 29,
     "metadata": {},
     "output_type": "execute_result"
    }
   ],
   "source": [
    "popcorn"
   ]
  },
  {
   "cell_type": "code",
   "execution_count": 30,
   "id": "30f9cb1b",
   "metadata": {},
   "outputs": [],
   "source": [
    "planets = [\"Mercury\",\"venus\",\"earth\",\"mars\"]"
   ]
  },
  {
   "cell_type": "code",
   "execution_count": 31,
   "id": "9e9a08a4",
   "metadata": {},
   "outputs": [
    {
     "data": {
      "text/plain": [
       "True"
      ]
     },
     "execution_count": 31,
     "metadata": {},
     "output_type": "execute_result"
    }
   ],
   "source": [
    "\"earth\" in planets"
   ]
  },
  {
   "cell_type": "code",
   "execution_count": 32,
   "id": "5b116460",
   "metadata": {},
   "outputs": [
    {
     "data": {
      "text/plain": [
       "False"
      ]
     },
     "execution_count": 32,
     "metadata": {},
     "output_type": "execute_result"
    }
   ],
   "source": [
    "\"jupiter\" in planets"
   ]
  },
  {
   "cell_type": "markdown",
   "id": "712cb399",
   "metadata": {},
   "source": [
    "# index and slicing"
   ]
  },
  {
   "cell_type": "code",
   "execution_count": 1,
   "id": "e289071e",
   "metadata": {},
   "outputs": [],
   "source": [
    "spiderman = \"Spiderman\""
   ]
  },
  {
   "cell_type": "code",
   "execution_count": 3,
   "id": "f9466e77",
   "metadata": {},
   "outputs": [
    {
     "data": {
      "text/plain": [
       "9"
      ]
     },
     "execution_count": 3,
     "metadata": {},
     "output_type": "execute_result"
    }
   ],
   "source": [
    "len(spiderman)"
   ]
  },
  {
   "cell_type": "code",
   "execution_count": 4,
   "id": "af0f1e69",
   "metadata": {},
   "outputs": [
    {
     "data": {
      "text/plain": [
       "'s'"
      ]
     },
     "execution_count": 4,
     "metadata": {},
     "output_type": "execute_result"
    }
   ],
   "source": [
    "#first characater pulled\n",
    "spiderman[0]"
   ]
  },
  {
   "cell_type": "code",
   "execution_count": 8,
   "id": "7bd860b0",
   "metadata": {},
   "outputs": [
    {
     "data": {
      "text/plain": [
       "'n'"
      ]
     },
     "execution_count": 8,
     "metadata": {},
     "output_type": "execute_result"
    }
   ],
   "source": [
    "#last character pulled\n",
    "spiderman[-1]"
   ]
  },
  {
   "cell_type": "code",
   "execution_count": 9,
   "id": "193de59b",
   "metadata": {},
   "outputs": [],
   "source": [
    "superheroes=[\"Batman\",\"Superman\",\"Wolverine\",\"Ironman\",\"Arnold Schwarz\"]"
   ]
  },
  {
   "cell_type": "code",
   "execution_count": 10,
   "id": "5c603c37",
   "metadata": {},
   "outputs": [
    {
     "data": {
      "text/plain": [
       "5"
      ]
     },
     "execution_count": 10,
     "metadata": {},
     "output_type": "execute_result"
    }
   ],
   "source": [
    "len(superheroes)"
   ]
  },
  {
   "cell_type": "code",
   "execution_count": 11,
   "id": "5a119d29",
   "metadata": {},
   "outputs": [
    {
     "data": {
      "text/plain": [
       "'Batman'"
      ]
     },
     "execution_count": 11,
     "metadata": {},
     "output_type": "execute_result"
    }
   ],
   "source": [
    "superheroes[0]"
   ]
  },
  {
   "cell_type": "code",
   "execution_count": 12,
   "id": "d3295320",
   "metadata": {},
   "outputs": [
    {
     "data": {
      "text/plain": [
       "['Superman', 'Wolverine']"
      ]
     },
     "execution_count": 12,
     "metadata": {},
     "output_type": "execute_result"
    }
   ],
   "source": [
    "superheroes[1:3]"
   ]
  },
  {
   "cell_type": "code",
   "execution_count": 13,
   "id": "36dfa069",
   "metadata": {},
   "outputs": [
    {
     "data": {
      "text/plain": [
       "['Superman', 'Wolverine', 'Ironman', 'Arnold Schwarz']"
      ]
     },
     "execution_count": 13,
     "metadata": {},
     "output_type": "execute_result"
    }
   ],
   "source": [
    "superheroes[1:]"
   ]
  },
  {
   "cell_type": "code",
   "execution_count": 15,
   "id": "fccee423",
   "metadata": {},
   "outputs": [
    {
     "data": {
      "text/plain": [
       "'spider'"
      ]
     },
     "execution_count": 15,
     "metadata": {},
     "output_type": "execute_result"
    }
   ],
   "source": [
    "spiderman[0:6]"
   ]
  },
  {
   "cell_type": "code",
   "execution_count": 16,
   "id": "58be9e55",
   "metadata": {},
   "outputs": [
    {
     "data": {
      "text/plain": [
       "['Batman', 'Superman', 'Wolverine']"
      ]
     },
     "execution_count": 16,
     "metadata": {},
     "output_type": "execute_result"
    }
   ],
   "source": [
    "superheroes[:3]"
   ]
  },
  {
   "cell_type": "code",
   "execution_count": null,
   "id": "7dea4713",
   "metadata": {},
   "outputs": [],
   "source": []
  },
  {
   "cell_type": "markdown",
   "id": "0add0275",
   "metadata": {},
   "source": [
    "# Dictionaries"
   ]
  },
  {
   "cell_type": "code",
   "execution_count": 18,
   "id": "fc2dd100",
   "metadata": {},
   "outputs": [],
   "source": [
    "#an unordered collection of key-pairs"
   ]
  },
  {
   "cell_type": "code",
   "execution_count": 21,
   "id": "ec7649c4",
   "metadata": {},
   "outputs": [],
   "source": [
    "menu= {\n",
    "    \"Filet Mignon\": 29.99,\n",
    "    \"Big Mac\":3.99,\n",
    "    \"Pizza\": 0.99,\n",
    "    \"Salmon\": 29.99\n",
    "}"
   ]
  },
  {
   "cell_type": "code",
   "execution_count": 22,
   "id": "e6330689",
   "metadata": {},
   "outputs": [
    {
     "data": {
      "text/plain": [
       "{'Filet Mignon': 29.99, 'Big Mac': 3.99, 'Pizza': 0.99, 'Salmon': 29.99}"
      ]
     },
     "execution_count": 22,
     "metadata": {},
     "output_type": "execute_result"
    }
   ],
   "source": [
    "menu"
   ]
  },
  {
   "cell_type": "code",
   "execution_count": 23,
   "id": "63b481eb",
   "metadata": {},
   "outputs": [
    {
     "data": {
      "text/plain": [
       "4"
      ]
     },
     "execution_count": 23,
     "metadata": {},
     "output_type": "execute_result"
    }
   ],
   "source": [
    "len(menu)"
   ]
  },
  {
   "cell_type": "code",
   "execution_count": 26,
   "id": "6100f356",
   "metadata": {},
   "outputs": [
    {
     "data": {
      "text/plain": [
       "3.99"
      ]
     },
     "execution_count": 26,
     "metadata": {},
     "output_type": "execute_result"
    }
   ],
   "source": [
    "menu[\"Big Mac\"]"
   ]
  },
  {
   "cell_type": "code",
   "execution_count": 30,
   "id": "034bc580",
   "metadata": {},
   "outputs": [],
   "source": [
    "#adding a key value pair\n",
    "menu[\"Burrito\"]= 5.99"
   ]
  },
  {
   "cell_type": "code",
   "execution_count": 31,
   "id": "2ac4d8a8",
   "metadata": {},
   "outputs": [
    {
     "data": {
      "text/plain": [
       "{'Filet Mignon': 29.99,\n",
       " 'Big Mac': 3.99,\n",
       " 'Pizza': 0.99,\n",
       " 'Salmon': 29.99,\n",
       " 'Burrito': 5.99}"
      ]
     },
     "execution_count": 31,
     "metadata": {},
     "output_type": "execute_result"
    }
   ],
   "source": [
    "menu\n"
   ]
  },
  {
   "cell_type": "code",
   "execution_count": 32,
   "id": "bec2439d",
   "metadata": {},
   "outputs": [],
   "source": [
    "#udpating key value pair\n",
    "menu[\"Big Mac\"] = 6.99"
   ]
  },
  {
   "cell_type": "code",
   "execution_count": 33,
   "id": "180d24a8",
   "metadata": {},
   "outputs": [
    {
     "data": {
      "text/plain": [
       "29.99"
      ]
     },
     "execution_count": 33,
     "metadata": {},
     "output_type": "execute_result"
    }
   ],
   "source": [
    "#removing a key value pair\n",
    "menu.pop(\"Filet Mignon\")"
   ]
  },
  {
   "cell_type": "code",
   "execution_count": 34,
   "id": "9fd17995",
   "metadata": {},
   "outputs": [
    {
     "data": {
      "text/plain": [
       "{'Big Mac': 6.99, 'Pizza': 0.99, 'Salmon': 29.99, 'Burrito': 5.99}"
      ]
     },
     "execution_count": 34,
     "metadata": {},
     "output_type": "execute_result"
    }
   ],
   "source": [
    "menu"
   ]
  },
  {
   "cell_type": "code",
   "execution_count": 36,
   "id": "a518220c",
   "metadata": {},
   "outputs": [
    {
     "data": {
      "text/plain": [
       "True"
      ]
     },
     "execution_count": 36,
     "metadata": {},
     "output_type": "execute_result"
    }
   ],
   "source": [
    "\"Pizza\" in menu"
   ]
  },
  {
   "cell_type": "code",
   "execution_count": 37,
   "id": "506f6295",
   "metadata": {},
   "outputs": [
    {
     "data": {
      "text/plain": [
       "True"
      ]
     },
     "execution_count": 37,
     "metadata": {},
     "output_type": "execute_result"
    }
   ],
   "source": [
    "\"Bubble Gum\" not in menu"
   ]
  },
  {
   "cell_type": "code",
   "execution_count": 38,
   "id": "c17959dc",
   "metadata": {},
   "outputs": [
    {
     "data": {
      "text/plain": [
       "True"
      ]
     },
     "execution_count": 38,
     "metadata": {},
     "output_type": "execute_result"
    }
   ],
   "source": [
    "5.99 in menu.values()"
   ]
  },
  {
   "cell_type": "code",
   "execution_count": null,
   "id": "c775f32b",
   "metadata": {},
   "outputs": [],
   "source": []
  }
 ],
 "metadata": {
  "kernelspec": {
   "display_name": "Python 3 (ipykernel)",
   "language": "python",
   "name": "python3"
  },
  "language_info": {
   "codemirror_mode": {
    "name": "ipython",
    "version": 3
   },
   "file_extension": ".py",
   "mimetype": "text/x-python",
   "name": "python",
   "nbconvert_exporter": "python",
   "pygments_lexer": "ipython3",
   "version": "3.10.8"
  }
 },
 "nbformat": 4,
 "nbformat_minor": 5
}
